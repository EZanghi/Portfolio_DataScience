{
 "cells": [
  {
   "cell_type": "markdown",
   "metadata": {},
   "source": [
    "<H2> Preparando o ambiente</H2>"
   ]
  },
  {
   "cell_type": "code",
   "execution_count": 3,
   "metadata": {},
   "outputs": [],
   "source": [
    "## Descomente as linhas [!pip install ...] caso precise instalar algumas das bibliotecas utilizadas\n",
    "\n",
    "## Instalar pacotes do requests\n",
    "!pip install -q requests\n",
    "\n",
    "## Instalar pacotes do requests\n",
    "!pip install -q pandas\n",
    "\n",
    "## Instalar Watermark\n",
    "!pip install -q watermark\n",
    "\n",
    "## Instalar o psycopg2-binary -- para suprir dependência da lib sqlalchemy\n",
    "!pip install psycopg2-binary -q"
   ]
  },
  {
   "cell_type": "code",
   "execution_count": 1,
   "metadata": {},
   "outputs": [],
   "source": [
    "# Bibliotecas utilizadas\n",
    "\n",
    "import sqlalchemy as db     # Acessar e gerenciar BD\n",
    "import requests             # Obter dados API - WEB\n",
    "import pandas as pd         # Manipular dados\n",
    "\n",
    "# *Caso não seja possível importar alguma das bibliotecas acima,\n",
    "#  descomente a linha correspondente na célula acima"
   ]
  },
  {
   "cell_type": "code",
   "execution_count": 4,
   "metadata": {},
   "outputs": [
    {
     "name": "stdout",
     "output_type": "stream",
     "text": [
      "pandas    : 2.2.2\n",
      "sqlalchemy: 2.0.30\n",
      "requests  : 2.32.2\n",
      "\n"
     ]
    }
   ],
   "source": [
    "#versões dos pacotes usados neste notebook\n",
    "%reload_ext watermark\n",
    "%watermark --iversions"
   ]
  },
  {
   "cell_type": "markdown",
   "metadata": {},
   "source": [
    "#####   VERSÃO DAS LIB'S UTILIZADAS     ####\n",
    "- pandas    : 2.2.2\n",
    "- sqlalchemy: 2.0.30\n",
    "- requests  : 2.32.2"
   ]
  },
  {
   "cell_type": "markdown",
   "metadata": {},
   "source": [
    "---\n",
    "<H2> Configurando as conexão"
   ]
  },
  {
   "cell_type": "code",
   "execution_count": 8,
   "metadata": {},
   "outputs": [],
   "source": [
    "# Definindo variáveis de conexão\n",
    "\n",
    "## Fonte de dados\n",
    "api_data = 'https://jsonplaceholder.typicode.com/todos/'\n",
    "\n",
    "## Conexão BD\n",
    "db_url = db.URL.create(\n",
    "    \"postgresql\",\n",
    "    username=\"postgres\",\n",
    "    password=\"Password123\",\n",
    "    host=\"localhost\",\n",
    "    port=5432,\n",
    "    database=\"datalake\",\n",
    "    )\n",
    "\n",
    "# Criando conexão com BD Postgres\n",
    "engine = db.create_engine(db_url)"
   ]
  },
  {
   "cell_type": "markdown",
   "metadata": {},
   "source": [
    "<H2> Baixando dados da API"
   ]
  },
  {
   "cell_type": "code",
   "execution_count": 9,
   "metadata": {},
   "outputs": [],
   "source": [
    "# Obtendo os dados da API\n",
    "response = requests.get(api_data)\n",
    "data = response.json()\n",
    "df = pd.DataFrame(data)"
   ]
  }
 ],
 "metadata": {
  "kernelspec": {
   "display_name": "Python 3",
   "language": "python",
   "name": "python3"
  },
  "language_info": {
   "codemirror_mode": {
    "name": "ipython",
    "version": 3
   },
   "file_extension": ".py",
   "mimetype": "text/x-python",
   "name": "python",
   "nbconvert_exporter": "python",
   "pygments_lexer": "ipython3",
   "version": "3.12.4"
  }
 },
 "nbformat": 4,
 "nbformat_minor": 2
}
