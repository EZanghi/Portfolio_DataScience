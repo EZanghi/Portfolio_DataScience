{
 "cells": [
  {
   "cell_type": "markdown",
   "metadata": {},
   "source": [
    "<H2> Preparando o ambiente</H2>"
   ]
  },
  {
   "cell_type": "code",
   "execution_count": 17,
   "metadata": {},
   "outputs": [],
   "source": [
    "## Instala pacotes do requests\n",
    "!pip install -q requests\n",
    "\n",
    "## Instala Watermark\n",
    "!pip install -q watermark\n",
    "\n",
    "## Instala o psycopg2-binary -- para suprir dependência da lib sqlalchemy\n",
    "!pip install psycopg2-binary -q\n"
   ]
  },
  {
   "cell_type": "code",
   "execution_count": 14,
   "metadata": {},
   "outputs": [
    {
     "ename": "ModuleNotFoundError",
     "evalue": "No module named 'psycopg2'",
     "output_type": "error",
     "traceback": [
      "\u001b[1;31m---------------------------------------------------------------------------\u001b[0m",
      "\u001b[1;31mModuleNotFoundError\u001b[0m                       Traceback (most recent call last)",
      "Input \u001b[1;32mIn [14]\u001b[0m, in \u001b[0;36m<cell line: 2>\u001b[1;34m()\u001b[0m\n\u001b[0;32m      1\u001b[0m \u001b[38;5;28;01mfrom\u001b[39;00m \u001b[38;5;21;01msqlalchemy\u001b[39;00m \u001b[38;5;28;01mimport\u001b[39;00m create_engine\n\u001b[1;32m----> 2\u001b[0m \u001b[38;5;28;01mimport\u001b[39;00m \u001b[38;5;21;01mpsycopg2\u001b[39;00m\n\u001b[0;32m      3\u001b[0m \u001b[38;5;28;01mimport\u001b[39;00m \u001b[38;5;21;01mrequests\u001b[39;00m\n\u001b[0;32m      4\u001b[0m \u001b[38;5;28;01mimport\u001b[39;00m \u001b[38;5;21;01mpandas\u001b[39;00m \u001b[38;5;28;01mas\u001b[39;00m \u001b[38;5;21;01mpd\u001b[39;00m\n",
      "\u001b[1;31mModuleNotFoundError\u001b[0m: No module named 'psycopg2'"
     ]
    }
   ],
   "source": [
    "import sqlalchemy as sa\n",
    "import requests\n",
    "import pandas as pd"
   ]
  },
  {
   "cell_type": "code",
   "execution_count": 3,
   "metadata": {},
   "outputs": [
    {
     "name": "stdout",
     "output_type": "stream",
     "text": [
      "Author: Eduardo Zanghi\n",
      "\n",
      "sqlalchemy: 2.0.32\n",
      "requests  : 2.32.3\n",
      "pandas    : 1.5.1\n",
      "\n"
     ]
    }
   ],
   "source": [
    "#versões dos pacotes usados neste notebook\n",
    "%reload_ext watermark\n",
    "%watermark -a \"Eduardo Zanghi\" --iversions"
   ]
  },
  {
   "cell_type": "markdown",
   "metadata": {},
   "source": [
    "- requests  : 2.32.3\n",
    "- pandas    : 1.5.1\n",
    "- sqlalchemy: 2.0.32"
   ]
  },
  {
   "cell_type": "markdown",
   "metadata": {},
   "source": [
    "---"
   ]
  },
  {
   "cell_type": "markdown",
   "metadata": {},
   "source": [
    "<H2> Configurando as conexão"
   ]
  },
  {
   "cell_type": "code",
   "execution_count": 4,
   "metadata": {},
   "outputs": [],
   "source": [
    "# Definindo variáveis de conexão\n",
    "\n",
    "## Fonte de dados\n",
    "api_data = 'https://jsonplaceholder.typicode.com/todos/'\n",
    "\n",
    "## Conexão BD\n",
    "host = 'localhost'\n",
    "port = '5432'\n",
    "user = 'postgres'\n",
    "password = 'Password123'\n",
    "database = 'datalake'"
   ]
  },
  {
   "cell_type": "code",
   "execution_count": 19,
   "metadata": {},
   "outputs": [],
   "source": [
    "# Criando conexão com BD\n",
    "engine = sa.create_engine('postgresql://' + user + \":\" + password + \"@\" + host + \":\" + port + \"/\" + database)"
   ]
  },
  {
   "cell_type": "code",
   "execution_count": 22,
   "metadata": {},
   "outputs": [],
   "source": [
    "# Obtendo os dados da API\n",
    "response = requests.get(api_data)\n",
    "data = response.json()\n",
    "df = pd.DataFrame(data)"
   ]
  },
  {
   "cell_type": "code",
   "execution_count": 24,
   "metadata": {},
   "outputs": [
    {
     "data": {
      "text/html": [
       "<div>\n",
       "<style scoped>\n",
       "    .dataframe tbody tr th:only-of-type {\n",
       "        vertical-align: middle;\n",
       "    }\n",
       "\n",
       "    .dataframe tbody tr th {\n",
       "        vertical-align: top;\n",
       "    }\n",
       "\n",
       "    .dataframe thead th {\n",
       "        text-align: right;\n",
       "    }\n",
       "</style>\n",
       "<table border=\"1\" class=\"dataframe\">\n",
       "  <thead>\n",
       "    <tr style=\"text-align: right;\">\n",
       "      <th></th>\n",
       "      <th>userId</th>\n",
       "      <th>id</th>\n",
       "      <th>title</th>\n",
       "      <th>completed</th>\n",
       "    </tr>\n",
       "  </thead>\n",
       "  <tbody>\n",
       "    <tr>\n",
       "      <th>21</th>\n",
       "      <td>2</td>\n",
       "      <td>22</td>\n",
       "      <td>distinctio vitae autem nihil ut molestias quo</td>\n",
       "      <td>True</td>\n",
       "    </tr>\n",
       "  </tbody>\n",
       "</table>\n",
       "</div>"
      ],
      "text/plain": [
       "    userId  id                                          title  completed\n",
       "21       2  22  distinctio vitae autem nihil ut molestias quo       True"
      ]
     },
     "execution_count": 24,
     "metadata": {},
     "output_type": "execute_result"
    }
   ],
   "source": [
    "df.sample()"
   ]
  },
  {
   "cell_type": "code",
   "execution_count": 25,
   "metadata": {},
   "outputs": [
    {
     "data": {
      "text/plain": [
       "userId  id     title  completed\n",
       "False   False  False  False        200\n",
       "dtype: int64"
      ]
     },
     "execution_count": 25,
     "metadata": {},
     "output_type": "execute_result"
    }
   ],
   "source": [
    "# Verificando a quantidade de valores nulos no dataset.\n",
    "df.isna().value_counts()"
   ]
  },
  {
   "cell_type": "markdown",
   "metadata": {},
   "source": [
    "---"
   ]
  },
  {
   "cell_type": "code",
   "execution_count": 111,
   "metadata": {},
   "outputs": [],
   "source": [
    "## Experimentando em sqlite3\n",
    "\n",
    "import sqlite3 as sql"
   ]
  },
  {
   "cell_type": "code",
   "execution_count": 110,
   "metadata": {},
   "outputs": [
    {
     "name": "stdout",
     "output_type": "stream",
     "text": [
      "The sql extension is already loaded. To reload it, use:\n",
      "  %reload_ext sql\n"
     ]
    }
   ],
   "source": [
    "# Criando a conexão a um banco de dados SQLite\n",
    "cnn = sql.connect('dbproject1.db')\n",
    "\n",
    "# Copia dados do Dataframe para dentro do banco de dados como uma tabela\n",
    "df.to_sql('teddy_360', cnn, if_exists='replace', index=False)\n",
    "\n",
    "# Carregamos a extensão SQL\n",
    "%load_ext sql\n",
    "\n",
    "# Defnindo o banco de dados SQLite\n",
    "%sql sqlite:///dbproject1.db\n"
   ]
  },
  {
   "cell_type": "code",
   "execution_count": 114,
   "metadata": {},
   "outputs": [
    {
     "name": "stdout",
     "output_type": "stream",
     "text": [
      " * sqlite:///dbproject1.db\n",
      "Done.\n"
     ]
    },
    {
     "data": {
      "text/html": [
       "<table>\n",
       "    <thead>\n",
       "        <tr>\n",
       "            <th>userId</th>\n",
       "            <th>id</th>\n",
       "            <th>title</th>\n",
       "            <th>completed</th>\n",
       "        </tr>\n",
       "    </thead>\n",
       "    <tbody>\n",
       "        <tr>\n",
       "            <td>1</td>\n",
       "            <td>1</td>\n",
       "            <td>delectus aut autem</td>\n",
       "            <td>0</td>\n",
       "        </tr>\n",
       "        <tr>\n",
       "            <td>1</td>\n",
       "            <td>2</td>\n",
       "            <td>quis ut nam facilis et officia qui</td>\n",
       "            <td>0</td>\n",
       "        </tr>\n",
       "        <tr>\n",
       "            <td>1</td>\n",
       "            <td>3</td>\n",
       "            <td>fugiat veniam minus</td>\n",
       "            <td>0</td>\n",
       "        </tr>\n",
       "        <tr>\n",
       "            <td>1</td>\n",
       "            <td>4</td>\n",
       "            <td>et porro tempora</td>\n",
       "            <td>1</td>\n",
       "        </tr>\n",
       "        <tr>\n",
       "            <td>1</td>\n",
       "            <td>5</td>\n",
       "            <td>laboriosam mollitia et enim quasi adipisci quia provident illum</td>\n",
       "            <td>0</td>\n",
       "        </tr>\n",
       "        <tr>\n",
       "            <td>1</td>\n",
       "            <td>6</td>\n",
       "            <td>qui ullam ratione quibusdam voluptatem quia omnis</td>\n",
       "            <td>0</td>\n",
       "        </tr>\n",
       "        <tr>\n",
       "            <td>1</td>\n",
       "            <td>7</td>\n",
       "            <td>illo expedita consequatur quia in</td>\n",
       "            <td>0</td>\n",
       "        </tr>\n",
       "        <tr>\n",
       "            <td>1</td>\n",
       "            <td>8</td>\n",
       "            <td>quo adipisci enim quam ut ab</td>\n",
       "            <td>1</td>\n",
       "        </tr>\n",
       "        <tr>\n",
       "            <td>1</td>\n",
       "            <td>9</td>\n",
       "            <td>molestiae perspiciatis ipsa</td>\n",
       "            <td>0</td>\n",
       "        </tr>\n",
       "        <tr>\n",
       "            <td>1</td>\n",
       "            <td>10</td>\n",
       "            <td>illo est ratione doloremque quia maiores aut</td>\n",
       "            <td>1</td>\n",
       "        </tr>\n",
       "    </tbody>\n",
       "</table>"
      ],
      "text/plain": [
       "[(1, 1, 'delectus aut autem', 0),\n",
       " (1, 2, 'quis ut nam facilis et officia qui', 0),\n",
       " (1, 3, 'fugiat veniam minus', 0),\n",
       " (1, 4, 'et porro tempora', 1),\n",
       " (1, 5, 'laboriosam mollitia et enim quasi adipisci quia provident illum', 0),\n",
       " (1, 6, 'qui ullam ratione quibusdam voluptatem quia omnis', 0),\n",
       " (1, 7, 'illo expedita consequatur quia in', 0),\n",
       " (1, 8, 'quo adipisci enim quam ut ab', 1),\n",
       " (1, 9, 'molestiae perspiciatis ipsa', 0),\n",
       " (1, 10, 'illo est ratione doloremque quia maiores aut', 1)]"
      ]
     },
     "execution_count": 114,
     "metadata": {},
     "output_type": "execute_result"
    }
   ],
   "source": [
    "%%sql\n",
    "\n",
    "select * from teddy_360 limit 10"
   ]
  }
 ],
 "metadata": {
  "kernelspec": {
   "display_name": "Python 3",
   "language": "python",
   "name": "python3"
  },
  "language_info": {
   "codemirror_mode": {
    "name": "ipython",
    "version": 3
   },
   "file_extension": ".py",
   "mimetype": "text/x-python",
   "name": "python",
   "nbconvert_exporter": "python",
   "pygments_lexer": "ipython3",
   "version": "3.10.5"
  }
 },
 "nbformat": 4,
 "nbformat_minor": 2
}
